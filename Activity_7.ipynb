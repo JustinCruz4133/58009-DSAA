{
  "nbformat": 4,
  "nbformat_minor": 0,
  "metadata": {
    "colab": {
      "provenance": [],
      "authorship_tag": "ABX9TyN6IYdVAcmcNoMu0jRecndZ",
      "include_colab_link": true
    },
    "kernelspec": {
      "name": "python3",
      "display_name": "Python 3"
    },
    "language_info": {
      "name": "python"
    }
  },
  "cells": [
    {
      "cell_type": "markdown",
      "metadata": {
        "id": "view-in-github",
        "colab_type": "text"
      },
      "source": [
        "<a href=\"https://colab.research.google.com/github/JustinCruz4133/58009-DSAA/blob/main/Activity_7.ipynb\" target=\"_parent\"><img src=\"https://colab.research.google.com/assets/colab-badge.svg\" alt=\"Open In Colab\"/></a>"
      ]
    },
    {
      "cell_type": "code",
      "execution_count": 14,
      "metadata": {
        "colab": {
          "base_uri": "https://localhost:8080/"
        },
        "id": "ibJy6YYBFwn5",
        "outputId": "a3716f67-abbb-4de8-b12e-15a013cf501b"
      },
      "outputs": [
        {
          "output_type": "stream",
          "name": "stdout",
          "text": [
            "['1', '2', '3', '4', '5', '6']\n",
            "Number of the Vertices: 6\n"
          ]
        }
      ],
      "source": [
        "#Display Graph Vertices\n",
        "class graph:\n",
        "  def __init__(self,gdict=None):\n",
        "    if gdict is None:\n",
        "      gdict = []\n",
        "    self.gdict = gdict\n",
        "# Get the keys of the dictionary\n",
        "  def getVertices(self):\n",
        "    return list(self.gdict.keys())\n",
        "# Create the dictionary with graph elements\n",
        "graph_elements = {\n",
        "    \"1\" : [\"2\", \"3\", \"5\", \"6\"],\n",
        "    \"2\" : [\"1\", \"3\", \"5\", \"6\"],\n",
        "    \"3\" : [\"1\", \"2\", \"4\", \"5\"],\n",
        "    \"4\" : [\"2\", \"3\"],\n",
        "    \"5\" : [\"1\", \"2\", \"3\"],\n",
        "    \"6\" : [\"1\", \"2\"]\n",
        "    }\n",
        "g = graph(graph_elements)\n",
        "print(g.getVertices())\n",
        "print(\"Number of the Vertices:\", len(g.getVertices()))"
      ]
    },
    {
      "cell_type": "code",
      "source": [
        "#Display Graph Edges\n",
        "class graph:\n",
        "  def __init__(self,gdict=None):\n",
        "    if gdict is None:\n",
        "      gdict = {}\n",
        "    self.gdict = gdict\n",
        "\n",
        "  def edges(self):\n",
        "    return self.findedges()\n",
        "# Find the distinct list of edges\n",
        "  def findedges(self):\n",
        "    edgename = []\n",
        "    for vrtx in self.gdict:\n",
        "      for nxtvrtx in self.gdict[vrtx]:\n",
        "        if {nxtvrtx, vrtx} not in edgename:\n",
        "          edgename.append({vrtx, nxtvrtx})\n",
        "    return edgename\n",
        "# Create the dictionary with graph elements\n",
        "graph_elements = {\n",
        "    \"1\" : [\"2\", \"3\", \"5\", \"6\"],\n",
        "    \"2\" : [\"1\", \"3\", \"4\", \"5\", \"6\"],\n",
        "    \"3\" : [\"1\", \"2\", \"4\", \"5\"],\n",
        "    \"4\" : [\"2\", \"3\"],\n",
        "    \"5\" : [\"1\", \"2\", \"3\"],\n",
        "    \"6\" : [\"1\", \"2\"]\n",
        "    }\n",
        "g = graph(graph_elements)\n",
        "print(g.edges())\n",
        "print(\"Number of the Edges:\", len(g.edges()))"
      ],
      "metadata": {
        "colab": {
          "base_uri": "https://localhost:8080/"
        },
        "id": "IZjlAk1lGrVE",
        "outputId": "6829bfb0-2807-4a6c-9c06-50b43c052a5c"
      },
      "execution_count": 15,
      "outputs": [
        {
          "output_type": "stream",
          "name": "stdout",
          "text": [
            "[{'2', '1'}, {'3', '1'}, {'5', '1'}, {'6', '1'}, {'3', '2'}, {'2', '4'}, {'5', '2'}, {'2', '6'}, {'3', '4'}, {'5', '3'}]\n",
            "Number of the Edges: 10\n"
          ]
        }
      ]
    }
  ]
}