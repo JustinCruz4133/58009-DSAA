{
  "nbformat": 4,
  "nbformat_minor": 0,
  "metadata": {
    "colab": {
      "provenance": [],
      "authorship_tag": "ABX9TyOEedq/G1Plus9bWuLid63b",
      "include_colab_link": true
    },
    "kernelspec": {
      "name": "python3",
      "display_name": "Python 3"
    },
    "language_info": {
      "name": "python"
    }
  },
  "cells": [
    {
      "cell_type": "markdown",
      "metadata": {
        "id": "view-in-github",
        "colab_type": "text"
      },
      "source": [
        "<a href=\"https://colab.research.google.com/github/JustinCruz4133/58009-DSAA/blob/main/Practical_Lab_Exam.ipynb\" target=\"_parent\"><img src=\"https://colab.research.google.com/assets/colab-badge.svg\" alt=\"Open In Colab\"/></a>"
      ]
    },
    {
      "cell_type": "code",
      "execution_count": 25,
      "metadata": {
        "colab": {
          "base_uri": "https://localhost:8080/"
        },
        "id": "5UVoW0aUYEGY",
        "outputId": "0dc81e10-75c7-4109-b3b8-f0e9922768d7"
      },
      "outputs": [
        {
          "output_type": "stream",
          "name": "stdout",
          "text": [
            "Test Scores: [26, 49, 98, 87, 62, 75]\n",
            "Odd Numbers:\n",
            "49\n",
            "87\n",
            "75\n",
            "\n",
            "The Total of the Odd Numbers: 211\n"
          ]
        }
      ],
      "source": [
        "grades = [26, 49, 98, 87, 62, 75]\n",
        "print (\"Test Scores:\", grades)\n",
        "\n",
        "total = 0\n",
        "print(\"Odd Numbers:\")\n",
        "for x in grades:\n",
        "  if x % 2 == 0:\n",
        "    pass\n",
        "  else:\n",
        "    total += x\n",
        "    print(x)\n",
        "\n",
        "print (\"\\nThe Total of the Odd Numbers:\", total)"
      ]
    }
  ]
}
