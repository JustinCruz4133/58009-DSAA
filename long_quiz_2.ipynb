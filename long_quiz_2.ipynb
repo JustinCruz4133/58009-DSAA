{
  "nbformat": 4,
  "nbformat_minor": 0,
  "metadata": {
    "colab": {
      "provenance": [],
      "authorship_tag": "ABX9TyP7ACjqY4DiQef00GkRyBMw",
      "include_colab_link": true
    },
    "kernelspec": {
      "name": "python3",
      "display_name": "Python 3"
    },
    "language_info": {
      "name": "python"
    }
  },
  "cells": [
    {
      "cell_type": "markdown",
      "metadata": {
        "id": "view-in-github",
        "colab_type": "text"
      },
      "source": [
        "<a href=\"https://colab.research.google.com/github/JustinCruz4133/58009-DSAA/blob/main/long_quiz_2.ipynb\" target=\"_parent\"><img src=\"https://colab.research.google.com/assets/colab-badge.svg\" alt=\"Open In Colab\"/></a>"
      ]
    },
    {
      "cell_type": "code",
      "source": [
        "class graph:\n",
        "  def __init__(self, gdict = None):\n",
        "    if gdict is None:\n",
        "      gdict = []\n",
        "    self.gdict = gdict\n",
        "\n",
        "  def GetVertices(self):\n",
        "    return list(self.gdict.keys())\n",
        "\n",
        "  def GetEdges(self):\n",
        "    edgename = []\n",
        "    for vertex in self.gdict:\n",
        "      for nextvertex in self.gdict[vertex]:\n",
        "        if {nextvertex, vertex} not in edgename:\n",
        "          edgename.append({nextvertex, vertex})\n",
        "    return edgename\n",
        "\n",
        "elements = {\n",
        "    \"E\" : [\"I\", \"J\", \"K\", \"M\"],\n",
        "    \"F\" : [\"I\", \"J\", \"K\", \"P\"],\n",
        "    \"H\" : [\"I\", \"J\", \"K\"],\n",
        "    \"I\" : [\"E\", \"F\", \"H\"],\n",
        "    \"J\" : [\"E\", \"F\", \"H\"],\n",
        "    \"K\" : [\"E\", \"F\", \"H\"],\n",
        "    \"M\" : [\"E\"],\n",
        "    \"P\" : [\"F\"]\n",
        "    }\n",
        "\n",
        "a = graph(elements)\n",
        "print(\"Given Elements:\", elements)\n",
        "print(\"\\nVertices:\", a.GetVertices(), \"\\nNo. of Vertices:\", len(a.GetVertices()))\n",
        "print(\"\\nEdges:\", a.GetEdges(), \"\\nNo. of Edges:\", len(a.GetEdges()))"
      ],
      "metadata": {
        "colab": {
          "base_uri": "https://localhost:8080/"
        },
        "id": "AjKQre_9mb61",
        "outputId": "5bee6581-c28a-407e-b9c0-09dc1b8ceae7"
      },
      "execution_count": 13,
      "outputs": [
        {
          "output_type": "stream",
          "name": "stdout",
          "text": [
            "Given Elements: {'E': ['I', 'J', 'K', 'M'], 'F': ['I', 'J', 'K', 'P'], 'H': ['I', 'J', 'K'], 'I': ['E', 'F', 'H'], 'J': ['E', 'F', 'H'], 'K': ['E', 'F', 'H'], 'M': ['E'], 'P': ['F']}\n",
            "\n",
            "Vertices: ['E', 'F', 'H', 'I', 'J', 'K', 'M', 'P'] \n",
            "No. of Vertices: 8\n",
            "\n",
            "Edges: [{'I', 'E'}, {'J', 'E'}, {'K', 'E'}, {'M', 'E'}, {'I', 'F'}, {'F', 'J'}, {'F', 'K'}, {'F', 'P'}, {'I', 'H'}, {'J', 'H'}, {'K', 'H'}] \n",
            "No. of Edges: 11\n"
          ]
        }
      ]
    }
  ]
}