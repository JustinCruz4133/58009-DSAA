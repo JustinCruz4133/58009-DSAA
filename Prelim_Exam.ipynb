{
  "nbformat": 4,
  "nbformat_minor": 0,
  "metadata": {
    "colab": {
      "provenance": [],
      "authorship_tag": "ABX9TyNTlj/KOrX+rg6j7rsaC7gg",
      "include_colab_link": true
    },
    "kernelspec": {
      "name": "python3",
      "display_name": "Python 3"
    },
    "language_info": {
      "name": "python"
    }
  },
  "cells": [
    {
      "cell_type": "markdown",
      "metadata": {
        "id": "view-in-github",
        "colab_type": "text"
      },
      "source": [
        "<a href=\"https://colab.research.google.com/github/JustinCruz4133/58009-DSAA/blob/main/Prelim_Exam.ipynb\" target=\"_parent\"><img src=\"https://colab.research.google.com/assets/colab-badge.svg\" alt=\"Open In Colab\"/></a>"
      ]
    },
    {
      "cell_type": "code",
      "source": [
        "#Summation of test scores\n",
        "testscores = [26, 49, 98, 87, 62, 75]\n",
        "print(\"Test Scores:\", testscores)\n",
        "total = 0\n",
        "for x in testscores:\n",
        "  total += x\n",
        "print(\"\\nThe total of the test scores is:\", total)"
      ],
      "metadata": {
        "colab": {
          "base_uri": "https://localhost:8080/"
        },
        "id": "psU62ORe2dTV",
        "outputId": "e14cb18c-c84f-455b-c3fc-39535c7fbc80"
      },
      "execution_count": 7,
      "outputs": [
        {
          "output_type": "stream",
          "name": "stdout",
          "text": [
            "Test Scores: [26, 49, 98, 87, 62, 75]\n",
            "\n",
            "The total of the test scores is: 397\n"
          ]
        }
      ]
    }
  ]
}