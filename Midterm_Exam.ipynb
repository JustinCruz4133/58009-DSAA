{
  "nbformat": 4,
  "nbformat_minor": 0,
  "metadata": {
    "colab": {
      "provenance": [],
      "authorship_tag": "ABX9TyPpiK9FaUjGeDx85rxiqb/r",
      "include_colab_link": true
    },
    "kernelspec": {
      "name": "python3",
      "display_name": "Python 3"
    },
    "language_info": {
      "name": "python"
    }
  },
  "cells": [
    {
      "cell_type": "markdown",
      "metadata": {
        "id": "view-in-github",
        "colab_type": "text"
      },
      "source": [
        "<a href=\"https://colab.research.google.com/github/JustinCruz4133/58009-DSAA/blob/main/Midterm_Exam.ipynb\" target=\"_parent\"><img src=\"https://colab.research.google.com/assets/colab-badge.svg\" alt=\"Open In Colab\"/></a>"
      ]
    },
    {
      "cell_type": "code",
      "execution_count": 6,
      "metadata": {
        "colab": {
          "base_uri": "https://localhost:8080/"
        },
        "id": "LPW2zJATBfKY",
        "outputId": "75cbe896-0182-4c06-dafe-f3308b1537ff"
      },
      "outputs": [
        {
          "output_type": "stream",
          "name": "stdout",
          "text": [
            "Given Elements: {'A': ['B'], 'B': ['A', 'C', 'E', 'F'], 'C': ['B', 'D', 'E', 'F', 'I', 'M'], 'D': ['C', 'K', 'L'], 'E': ['B', 'C', 'N'], 'F': ['B', 'C', 'G', 'I'], 'G': ['F', 'I', 'J'], 'I': ['C', 'F', 'G', 'J', 'K'], 'J': ['G', 'I', 'K'], 'K': ['D', 'I', 'J'], 'L': ['D', 'M', 'P'], 'M': ['C', 'L', 'N', 'O', 'P'], 'N': ['E', 'M', 'O'], 'O': ['M', 'N', 'P'], 'P': ['L', 'M', 'O']}\n",
            "\n",
            "Vertices: ['A', 'B', 'C', 'D', 'E', 'F', 'G', 'I', 'J', 'K', 'L', 'M', 'N', 'O', 'P']\n",
            "\n",
            "Edges: [{'A', 'B'}, {'C', 'B'}, {'E', 'B'}, {'B', 'F'}, {'D', 'C'}, {'C', 'E'}, {'C', 'F'}, {'C', 'I'}, {'M', 'C'}, {'D', 'K'}, {'D', 'L'}, {'E', 'N'}, {'G', 'F'}, {'F', 'I'}, {'G', 'I'}, {'G', 'J'}, {'J', 'I'}, {'K', 'I'}, {'J', 'K'}, {'M', 'L'}, {'P', 'L'}, {'M', 'N'}, {'O', 'M'}, {'P', 'M'}, {'O', 'N'}, {'P', 'O'}]\n"
          ]
        }
      ],
      "source": [
        "class graph:\n",
        "  def __init__(self, gdict = None):\n",
        "    if gdict is None:\n",
        "      gdict = []\n",
        "    self.gdict = gdict\n",
        "\n",
        "  def GetVertices(self):\n",
        "    return list(self.gdict.keys())\n",
        "\n",
        "  def GetEdges(self):\n",
        "    edgename = []\n",
        "    for vertex in self.gdict:\n",
        "      for nextvertex in self.gdict[vertex]:\n",
        "        if {nextvertex, vertex} not in edgename:\n",
        "          edgename.append({nextvertex, vertex})\n",
        "    return edgename\n",
        "\n",
        "tree = {\n",
        "    \"A\" : [\"B\"],\n",
        "    \"B\" : [\"A\", \"C\", \"E\", \"F\"],\n",
        "    \"C\" : [\"B\", \"D\", \"E\", \"F\", \"I\", \"M\"],\n",
        "    \"D\" : [\"C\", \"K\", \"L\"],\n",
        "    \"E\" : [\"B\", \"C\", \"N\"],\n",
        "    \"F\" : [\"B\", \"C\", \"G\", \"I\"],\n",
        "    \"G\" : [\"F\", \"I\", \"J\"],\n",
        "    \"I\" : [\"C\", \"F\", \"G\", \"J\", \"K\"],\n",
        "    \"J\" : [\"G\", \"I\", \"K\"],\n",
        "    \"K\" : [\"D\", \"I\", \"J\"],\n",
        "    \"L\" : [\"D\", \"M\", \"P\"],\n",
        "    \"M\" : [\"C\", \"L\", \"N\", \"O\", \"P\"],\n",
        "    \"N\" : [\"E\", \"M\", \"O\"],\n",
        "    \"O\" : [\"M\", \"N\", \"P\"],\n",
        "    \"P\" : [\"L\", \"M\", \"O\"]\n",
        "    }\n",
        "\n",
        "\n",
        "a = graph(tree)\n",
        "print(\"Given Elements:\", tree)\n",
        "print(\"\\nVertices:\", a.GetVertices())\n",
        "print(\"\\nEdges:\", a.GetEdges())"
      ]
    }
  ]
}