{
  "nbformat": 4,
  "nbformat_minor": 0,
  "metadata": {
    "colab": {
      "provenance": [],
      "authorship_tag": "ABX9TyMKjV8e0kJsQKJDaX/6ngGO",
      "include_colab_link": true
    },
    "kernelspec": {
      "name": "python3",
      "display_name": "Python 3"
    },
    "language_info": {
      "name": "python"
    }
  },
  "cells": [
    {
      "cell_type": "markdown",
      "metadata": {
        "id": "view-in-github",
        "colab_type": "text"
      },
      "source": [
        "<a href=\"https://colab.research.google.com/github/JustinCruz4133/58009-DSAA/blob/main/Long_Quiz_1.ipynb\" target=\"_parent\"><img src=\"https://colab.research.google.com/assets/colab-badge.svg\" alt=\"Open In Colab\"/></a>"
      ]
    },
    {
      "cell_type": "markdown",
      "source": [
        "1. Create a python or C++ program that appends each character of your full name and displays each character in reverse order (50 points)"
      ],
      "metadata": {
        "id": "aIOB937S5Imb"
      }
    },
    {
      "cell_type": "code",
      "execution_count": 73,
      "metadata": {
        "colab": {
          "base_uri": "https://localhost:8080/"
        },
        "id": "9ORD6kf4zkSw",
        "outputId": "55c55ff0-4141-4d38-d3a9-4fc42ad30946"
      },
      "outputs": [
        {
          "output_type": "stream",
          "name": "stdout",
          "text": [
            "Full Name:\n",
            "JUSTIN DIESTA CRUZ\n",
            "\n",
            "Full Name (in reverse order):\n",
            "ZURC ATSEID NITSUJ"
          ]
        }
      ],
      "source": [
        "fullN = [\"J\", \"U\", \"S\", \"T\", \"I\", \"N\", \" \", \"D\", \"I\", \"E\", \"S\", \"T\", \"A\", \" \", \"C\", \"R\", \"U\", \"Z\"]\n",
        "Narray = []\n",
        "i = 0\n",
        "j = 0\n",
        "\n",
        "print(\"Full Name:\")\n",
        "for x in fullN:\n",
        "  Narray.append(x)\n",
        "while i < 18:\n",
        "  print(Narray[i], end = \"\")\n",
        "  i += 1\n",
        "\n",
        "print(\"\\n\\nFull Name (in reverse order):\")\n",
        "Narray.reverse()\n",
        "while j < 18:\n",
        "  print(Narray[j], end = \"\")\n",
        "  j += 1"
      ]
    },
    {
      "cell_type": "markdown",
      "source": [
        "2. Using the set of positive whole numbers from 1 to 10, create a python or C++ program that displays if it is prime or composite. (50 points)"
      ],
      "metadata": {
        "id": "id0TZVCJ5Khj"
      }
    },
    {
      "cell_type": "code",
      "source": [
        "prime = []\n",
        "composite = []\n",
        "\n",
        "for a in range(2, 11):\n",
        "  for b in range(2, a):\n",
        "    if(a % b == 0):\n",
        "      composite.append(a)\n",
        "      break\n",
        "  else:\n",
        "    prime.append(a)\n",
        "\n",
        "print(\"Prime Numbers are:\", end = \" \")\n",
        "for c in prime:\n",
        "  print(c, end = \" \")\n",
        "\n",
        "print(\"\\n\\nComposite Numbers are:\", end = \" \")\n",
        "for d in composite:\n",
        "  print(d, end = \" \")"
      ],
      "metadata": {
        "colab": {
          "base_uri": "https://localhost:8080/"
        },
        "id": "A3kDf-tG5MLC",
        "outputId": "06c9a0ab-3f7b-4f85-8516-71a944cec26a"
      },
      "execution_count": 76,
      "outputs": [
        {
          "output_type": "stream",
          "name": "stdout",
          "text": [
            "Prime Numbers are: 2 3 5 7 \n",
            "\n",
            "Composite Numbers are: 4 6 8 9 10 "
          ]
        }
      ]
    }
  ]
}