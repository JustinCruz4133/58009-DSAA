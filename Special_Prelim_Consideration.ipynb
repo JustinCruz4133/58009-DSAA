{
  "nbformat": 4,
  "nbformat_minor": 0,
  "metadata": {
    "colab": {
      "provenance": [],
      "authorship_tag": "ABX9TyNKg3wWVW6rjgxPE9IrlSZK",
      "include_colab_link": true
    },
    "kernelspec": {
      "name": "python3",
      "display_name": "Python 3"
    },
    "language_info": {
      "name": "python"
    }
  },
  "cells": [
    {
      "cell_type": "markdown",
      "metadata": {
        "id": "view-in-github",
        "colab_type": "text"
      },
      "source": [
        "<a href=\"https://colab.research.google.com/github/JustinCruz4133/58009-DSAA/blob/main/Special_Prelim_Consideration.ipynb\" target=\"_parent\"><img src=\"https://colab.research.google.com/assets/colab-badge.svg\" alt=\"Open In Colab\"/></a>"
      ]
    },
    {
      "cell_type": "code",
      "execution_count": 2,
      "metadata": {
        "colab": {
          "base_uri": "https://localhost:8080/"
        },
        "id": "XcJrJHIh_umw",
        "outputId": "5ffb064a-677f-4e59-c9f9-1419770146a0"
      },
      "outputs": [
        {
          "output_type": "stream",
          "name": "stdout",
          "text": [
            "Test Scores: [26, 49, 98, 87, 62, 75]\n",
            "The Total Test Scores is: 397\n"
          ]
        }
      ],
      "source": [
        "# Adding the Test Scores\n",
        "testscores = [26, 49, 98, 87, 62, 75]\n",
        "print(\"Test Scores:\", testscores)\n",
        "total = 0\n",
        "for x in testscores:\n",
        "  total += x\n",
        "\n",
        "print(\"The Total Test Scores is:\", total)"
      ]
    },
    {
      "cell_type": "code",
      "source": [
        "# Sorting the composite numbers in the testscores in Ascending/Desceding order\n",
        "testscores = [26, 49, 98, 87, 62, 75]\n",
        "composite = []\n",
        "\n",
        "# Code for checking if the testscores is a composite number\n",
        "for a in testscores:\n",
        "  for b in range(2, a):\n",
        "    if(a % b == 0):\n",
        "      composite.append(a)\n",
        "      break\n",
        "  else:\n",
        "    break\n",
        "\n",
        "print(\"Composite Numbers are:\", end = \" \")\n",
        "for d in composite:\n",
        "  print(d, end = \" \")\n",
        "\n",
        "composite.sort()       # Sort the composite numbers in ascending order\n",
        "print(\"\\n\\nAscending Order of the Composite Number:\", composite)\n",
        "composite.reverse()    # composite numbers in descending order\n",
        "print(\"Descending Order of the Composite Number:\", composite)\n",
        "\n",
        ""
      ],
      "metadata": {
        "colab": {
          "base_uri": "https://localhost:8080/"
        },
        "id": "Fs79t2CPB6Gs",
        "outputId": "76c24b59-940e-4725-baea-5a6260dd6bad"
      },
      "execution_count": 11,
      "outputs": [
        {
          "output_type": "stream",
          "name": "stdout",
          "text": [
            "Composite Numbers are: 26 49 98 87 62 75 \n",
            "\n",
            "Ascending Order of the Composite Number: [26, 49, 62, 75, 87, 98]\n",
            "Descending Order of the Composite Number: [98, 87, 75, 62, 49, 26]\n"
          ]
        }
      ]
    }
  ]
}