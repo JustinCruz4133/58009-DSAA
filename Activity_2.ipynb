{
  "nbformat": 4,
  "nbformat_minor": 0,
  "metadata": {
    "colab": {
      "provenance": [],
      "authorship_tag": "ABX9TyO6sOC5DAToDQTmvc9y8qfb",
      "include_colab_link": true
    },
    "kernelspec": {
      "name": "python3",
      "display_name": "Python 3"
    },
    "language_info": {
      "name": "python"
    }
  },
  "cells": [
    {
      "cell_type": "markdown",
      "metadata": {
        "id": "view-in-github",
        "colab_type": "text"
      },
      "source": [
        "<a href=\"https://colab.research.google.com/github/JustinCruz4133/58009-DSAA/blob/main/Activity_2.ipynb\" target=\"_parent\"><img src=\"https://colab.research.google.com/assets/colab-badge.svg\" alt=\"Open In Colab\"/></a>"
      ]
    },
    {
      "cell_type": "code",
      "execution_count": 16,
      "metadata": {
        "colab": {
          "base_uri": "https://localhost:8080/"
        },
        "id": "GgCYFeGHe4do",
        "outputId": "7c775c73-9bdf-44db-afe3-ea705713e190"
      },
      "outputs": [
        {
          "output_type": "stream",
          "name": "stdout",
          "text": [
            "2\n",
            "3\n",
            "5\n",
            "7\n",
            "11\n",
            "13\n",
            "17\n",
            "19\n"
          ]
        }
      ],
      "source": [
        "class Node:\n",
        "  def __init__(self, data):\n",
        "    self.data = data\n",
        "    self.next = None\n",
        "\n",
        "class LinkedList:\n",
        "  def __init__(self):\n",
        "    self.head = None\n",
        "\n",
        "  def prime(self, data):\n",
        "    newNode = Node(data)\n",
        "    if(self.head):\n",
        "      current = self.head\n",
        "      while(current.next):\n",
        "        current = current.next\n",
        "      current.next = newNode\n",
        "    else:\n",
        "      self.head = newNode\n",
        "\n",
        "  def printLL(self):\n",
        "    current = self.head\n",
        "    while(current):\n",
        "      print(current.data)\n",
        "      current = current.next\n",
        "\n",
        "PLL = LinkedList()\n",
        "\n",
        "#getting prime numbers\n",
        "result = []\n",
        "for cp in range (2, 20):\n",
        "\tfor i in range (2, cp):\n",
        "\t\tif ( cp % i == 0 ):\n",
        "\t\t\tbreak\n",
        "\telse:\n",
        "\t\tresult.append(cp)\n",
        "\n",
        "for x in result:\n",
        "  PLL.prime(x)\n",
        "\n",
        "PLL.printLL()"
      ]
    }
  ]
}