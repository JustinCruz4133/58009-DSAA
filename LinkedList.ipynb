{
  "nbformat": 4,
  "nbformat_minor": 0,
  "metadata": {
    "colab": {
      "provenance": [],
      "authorship_tag": "ABX9TyO1wjAQRGnFKa6+vpEWaCDZ",
      "include_colab_link": true
    },
    "kernelspec": {
      "name": "python3",
      "display_name": "Python 3"
    },
    "language_info": {
      "name": "python"
    }
  },
  "cells": [
    {
      "cell_type": "markdown",
      "metadata": {
        "id": "view-in-github",
        "colab_type": "text"
      },
      "source": [
        "<a href=\"https://colab.research.google.com/github/JustinCruz4133/58009-DSAA/blob/main/LinkedList.ipynb\" target=\"_parent\"><img src=\"https://colab.research.google.com/assets/colab-badge.svg\" alt=\"Open In Colab\"/></a>"
      ]
    },
    {
      "cell_type": "code",
      "source": [
        "Linked List"
      ],
      "metadata": {
        "id": "hJWL9wkVB5tA"
      },
      "execution_count": null,
      "outputs": []
    },
    {
      "cell_type": "code",
      "execution_count": null,
      "metadata": {
        "colab": {
          "base_uri": "https://localhost:8080/",
          "height": 35
        },
        "id": "4RPcNlw0ma6P",
        "outputId": "09f2b9dc-f2cb-4747-a3b7-75b84f3e5c2b"
      },
      "outputs": [
        {
          "output_type": "execute_result",
          "data": {
            "text/plain": [
              "'f'"
            ],
            "application/vnd.google.colaboratory.intrinsic+json": {
              "type": "string"
            }
          },
          "metadata": {},
          "execution_count": 2
        }
      ],
      "source": [
        "import array\n",
        "array.typecodes #get all typecodes\n",
        "a = array.array('i', [1, 2, 3, 4, 5, 6]) #initializing array a\n",
        "b = array.array('f', [1.5, 2.5, 3.5, 4.5, 5.5, 6.5]) #initializing array b\n",
        "\n",
        "a.typecode #getting the typecode of a\n",
        "b.typecode #getting the typecode of b"
      ]
    },
    {
      "cell_type": "code",
      "source": [
        "from array import array #importing array from array module\n",
        "a = array('i', [4, 5, 6, 7]) #initializing array\n",
        "a.insert(1, 2) #inserting element: 2 at index 1\n",
        "a #printing array a\n",
        "\n",
        "array('i', [4, 2, 5, 6, 7])\n",
        "a.insert(-1, 0) #insert element: 0 at index: -1\n",
        "a\n",
        "a.insert(10, -1) #insert element: -1 at index 10, this is out of range\n",
        "a\n",
        "array('i', [4, 2, 5, 6, 0, 7, -1])"
      ],
      "metadata": {
        "colab": {
          "base_uri": "https://localhost:8080/"
        },
        "id": "giQ3Fl0Wn0Sk",
        "outputId": "6e37f4ae-c07d-4817-ef0c-7a9b4c9d960b"
      },
      "execution_count": null,
      "outputs": [
        {
          "output_type": "execute_result",
          "data": {
            "text/plain": [
              "array('i', [4, 2, 5, 6, 0, 7, -1])"
            ]
          },
          "metadata": {},
          "execution_count": 6
        }
      ]
    },
    {
      "cell_type": "markdown",
      "source": [
        "Singly - Linked Lists"
      ],
      "metadata": {
        "id": "ng0wzbu8pHHe"
      }
    },
    {
      "cell_type": "code",
      "source": [
        "#Node class\n",
        "class Node:\n",
        "  #Function to initialize the node object\n",
        "  def __init__(self, data):\n",
        "    self.data = data #Assign data\n",
        "    self.next = None #Initialize\n",
        "        #next as null\n",
        "\n",
        "#Linked List Class\n",
        "class LinkedList:\n",
        "\n",
        "  #Function to initialize the Linked\n",
        "  #List object\n",
        "  def __init__(self):\n",
        "    self.head = None"
      ],
      "metadata": {
        "id": "HSySyQuwpJam"
      },
      "execution_count": null,
      "outputs": []
    },
    {
      "cell_type": "code",
      "source": [
        "# A simple Python program to introduce a linked list\n",
        "# Node class\n",
        "class Node:\n",
        "  # Function to initialize the node object\n",
        "  def __init__(self, data):\n",
        "    self.data = data # Assign data\n",
        "    self.next = None # Initialize next as null\n",
        "\n",
        "#Linked List class contains a Node object\n",
        "class LinkedList:\n",
        "  # Function to initialize head\n",
        "  def __init__(self):\n",
        "    self.head = None\n",
        "\n",
        "  def printlist(self):\n",
        "    temp = self.head\n",
        "    while (temp):\n",
        "      print(temp.data)\n",
        "      temp = temp.next\n",
        "\n",
        "\n",
        "# Code execution starts here\n",
        "if __name__ == '__main__':\n",
        "  # Start with the empty list\n",
        "  llist = LinkedList()\n",
        "\n",
        "  llist.head = Node(1)\n",
        "  second = Node(2)\n",
        "  third = Node(3)\n",
        "\n",
        "  llist.head.next = second; # Link first node with second\n",
        "  second.next = third; # Link second node with the third node\n",
        "\n",
        "llist.printlist()"
      ],
      "metadata": {
        "colab": {
          "base_uri": "https://localhost:8080/"
        },
        "id": "A-ys-YILqQil",
        "outputId": "2468cffa-704a-4fcc-c011-5926049abc2f"
      },
      "execution_count": null,
      "outputs": [
        {
          "output_type": "stream",
          "name": "stdout",
          "text": [
            "1\n",
            "2\n",
            "3\n"
          ]
        }
      ]
    },
    {
      "cell_type": "markdown",
      "source": [
        "Doubly - Linked List"
      ],
      "metadata": {
        "id": "_cIYVbqqCC_G"
      }
    },
    {
      "cell_type": "code",
      "source": [
        "# A simple Python program to introduce a linked list\n",
        "# Node class\n",
        "class Node:\n",
        "  # Function to initialize the node object\n",
        "  def __init__(self, data):\n",
        "    self.data = data # Assign data\n",
        "    self.next = None # Initialize next as null\n",
        "    self.prev = None\n",
        "\n",
        "#Linked List class contains a Node object\n",
        "class LinkedList:\n",
        "  # Function to initialize head\n",
        "  def __init__(self):\n",
        "    self.head = None\n",
        "    self.tail = None\n",
        "\n",
        "  def printlist(self):\n",
        "    temp = self.head\n",
        "    while (temp):\n",
        "      print(temp.data)\n",
        "      temp = temp.next\n",
        "\n",
        "    temp = self.tail\n",
        "    while (temp):\n",
        "      print(temp.data)\n",
        "      temp = temp.prev\n",
        "\n",
        "\n",
        "# Code execution starts here\n",
        "if __name__ == '__main__':\n",
        "  # Start with the empty list\n",
        "  llist = LinkedList()\n",
        "\n",
        "  llist.head = Node(1)\n",
        "  second = Node(2)\n",
        "  third = Node(3)\n",
        "  llist.tail = third\n",
        "\n",
        "  llist.head.next = second; # Link first node with second\n",
        "  llist.tail.prev = second;\n",
        "  second.prev = llist.head;\n",
        "\n",
        "llist.printlist()"
      ],
      "metadata": {
        "id": "sFaIc19ZCHFW",
        "outputId": "9f7ba773-9443-4d4c-b719-48187cd44653",
        "colab": {
          "base_uri": "https://localhost:8080/"
        }
      },
      "execution_count": 4,
      "outputs": [
        {
          "output_type": "stream",
          "name": "stdout",
          "text": [
            "1\n",
            "2\n",
            "3\n",
            "2\n",
            "1\n"
          ]
        }
      ]
    }
  ]
}