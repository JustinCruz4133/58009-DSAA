{
  "nbformat": 4,
  "nbformat_minor": 0,
  "metadata": {
    "colab": {
      "provenance": [],
      "authorship_tag": "ABX9TyPDaCZC+sSaeodQD+kjN5lI",
      "include_colab_link": true
    },
    "kernelspec": {
      "name": "python3",
      "display_name": "Python 3"
    },
    "language_info": {
      "name": "python"
    }
  },
  "cells": [
    {
      "cell_type": "markdown",
      "metadata": {
        "id": "view-in-github",
        "colab_type": "text"
      },
      "source": [
        "<a href=\"https://colab.research.google.com/github/JustinCruz4133/58009-DSAA/blob/main/Queues.ipynb\" target=\"_parent\"><img src=\"https://colab.research.google.com/assets/colab-badge.svg\" alt=\"Open In Colab\"/></a>"
      ]
    },
    {
      "cell_type": "code",
      "execution_count": 22,
      "metadata": {
        "colab": {
          "base_uri": "https://localhost:8080/"
        },
        "id": "7izlqfUri0_r",
        "outputId": "8a896e01-db73-4654-adbe-3e707cbba4bc"
      },
      "outputs": [
        {
          "output_type": "stream",
          "name": "stdout",
          "text": [
            "['A', 'B', 'C']\n",
            "A\n",
            "B\n",
            "C\n",
            "[]\n"
          ]
        }
      ],
      "source": [
        "queue = []\n",
        "\n",
        "# enqueue items into queue\n",
        "queue.append('A')\n",
        "queue.append('B')\n",
        "queue.append('C')\n",
        "print(queue)\n",
        "\n",
        "# dequeue items\n",
        "print(queue.pop(0))\n",
        "print(queue.pop(0))\n",
        "print(queue.pop(0))\n",
        "print(queue)\n"
      ]
    },
    {
      "cell_type": "markdown",
      "source": [
        "Activity 4"
      ],
      "metadata": {
        "id": "Pzeo8YRxmy4M"
      }
    },
    {
      "cell_type": "code",
      "source": [
        "class Waiting:\n",
        "  def __init__(self):\n",
        "    self.waiting = []\n",
        "\n",
        "  def enqueue(self, num):\n",
        "    if num not in self.waiting:\n",
        "      self.waiting.append(num)\n",
        "      return True\n",
        "    else:\n",
        "      return False\n",
        "\n",
        "  def dequeue(self):\n",
        "    return self.waiting.pop(0)\n",
        "\n",
        "list = Waiting()\n",
        "n = int(input(\"Number of Patients: \"))  # Number of Patients in Waiting List\n",
        "\n",
        "# enqueue number of patients in waiting list\n",
        "for x in range(1, n+1):\n",
        "  list.enqueue(x)\n",
        "\n",
        "# dequeue number of patients from waiting list\n",
        "y = 1\n",
        "\n",
        "while y <= n:\n",
        "  print(\"\\nPatient No. in consultation:\", list.dequeue())\n",
        "  if y < n:\n",
        "    print(\"Current Waiting List:\", list.waiting)\n",
        "  else:\n",
        "    print(\"Current Waiting List: None\")\n",
        "  y += 1"
      ],
      "metadata": {
        "colab": {
          "base_uri": "https://localhost:8080/"
        },
        "id": "-egsSli_njOa",
        "outputId": "013a1d0e-7dcb-475a-ca46-2b6ce53ec3b2"
      },
      "execution_count": 69,
      "outputs": [
        {
          "output_type": "stream",
          "name": "stdout",
          "text": [
            "Number of Patients: 5\n",
            "\n",
            "Patient No. in consultation: 1\n",
            "Current Waiting List: [2, 3, 4, 5]\n",
            "\n",
            "Patient No. in consultation: 2\n",
            "Current Waiting List: [3, 4, 5]\n",
            "\n",
            "Patient No. in consultation: 3\n",
            "Current Waiting List: [4, 5]\n",
            "\n",
            "Patient No. in consultation: 4\n",
            "Current Waiting List: [5]\n",
            "\n",
            "Patient No. in consultation: 5\n",
            "Current Waiting List: None\n"
          ]
        }
      ]
    }
  ]
}